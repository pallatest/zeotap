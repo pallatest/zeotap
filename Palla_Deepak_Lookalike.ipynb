{
 "cells": [
  {
   "cell_type": "code",
   "execution_count": null,
   "id": "7b41e846",
   "metadata": {},
   "outputs": [],
   "source": [
    "import pandas as pd\n",
    "from sklearn.metrics.pairwise import cosine_similarity\n",
    "from sklearn.preprocessing import StandardScaler\n",
    "\n",
    "customers = pd.read_csv(\"Customers.csv\")\n",
    "products = pd.read_csv(\"Products.csv\")\n",
    "transactions = pd.read_csv(\"Transactions.csv\")\n",
    "\n",
    "transactions_products = transactions.merge(products)\n",
    "merged_data = transactions_products.merge(customers)\n",
    "\n",
    "if 'Price_x' in merged_data.columns and 'Price_y' in merged_data.columns:\n",
    "    merged_data = merged_data.drop(columns=['Price_y'])\n",
    "    merged_data.rename(columns={'Price_x': 'Price'})\n",
    "\n",
    "merged_data.columns = merged_data.columns.str.strip()\n",
    "\n",
    "customer_agg = merged_data.groupby(\"CustomerID\").agg({\n",
    "    \"Price\": \"mean\",\n",
    "    \"ProductID\": \"count\",\n",
    "    \"Region\": \"first\"\n",
    "}).reset_index()\n",
    "customer_agg.rename(columns={\"Price\": \"AvgSpending\", \"ProductID\": \"TransactionCount\"}, inplace=True)\n",
    "\n",
    "customer_agg = pd.get_dummies(customer_agg, columns=[\"Region\"], drop_first=True)\n",
    "\n",
    "scaler = StandardScaler()\n",
    "customer_agg[[\"AvgSpending\", \"TransactionCount\"]] = scaler.fit_transform(customer_agg[[\"AvgSpending\", \"TransactionCount\"]])\n",
    "\n",
    "similarity_matrix = cosine_similarity(customer_agg.drop(columns=[\"CustomerID\"]))\n",
    "similarity_df = pd.DataFrame(similarity_matrix, index=customer_agg[\"CustomerID\"], columns=customer_agg[\"CustomerID\"])\n",
    "\n",
    "def get_similar_customers(target_customer_id, top_n=3):\n",
    "    if target_customer_id not in similarity_df.index:\n",
    "        print(f\"CustomerID {target_customer_id} not found.\")\n",
    "        return\n",
    "    similar_customers = similarity_df[target_customer_id].sort_values(ascending=False)[1:top_n+1]\n",
    "    result = customer_agg[customer_agg[\"CustomerID\"].isin(similar_customers.index)]\n",
    "    result[\"SimilarityScore\"] = similar_customers.values\n",
    "    return result\n",
    "def main():\n",
    "    target_customer_id = input(\"enter CustomerID to find similar users: \").capitalize()\n",
    "    similar_customers = get_similar_customers(target_customer_id)\n",
    "    if similar_customers is not None:\n",
    "        print(\"\\nTop similar customers:\")\n",
    "        print(similar_customers[[\"CustomerID\", \"SimilarityScore\"]])\n",
    "\n",
    "if __name__ == \"__main__\":\n",
    "    main()\n"
   ]
  }
 ],
 "metadata": {
  "kernelspec": {
   "display_name": "Python 3 (ipykernel)",
   "language": "python",
   "name": "python3"
  },
  "language_info": {
   "codemirror_mode": {
    "name": "ipython",
    "version": 3
   },
   "file_extension": ".py",
   "mimetype": "text/x-python",
   "name": "python",
   "nbconvert_exporter": "python",
   "pygments_lexer": "ipython3",
   "version": "3.9.13"
  }
 },
 "nbformat": 4,
 "nbformat_minor": 5
}
